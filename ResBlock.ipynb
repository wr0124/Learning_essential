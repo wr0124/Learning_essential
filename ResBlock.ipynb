{
  "nbformat": 4,
  "nbformat_minor": 0,
  "metadata": {
    "colab": {
      "provenance": [],
      "authorship_tag": "ABX9TyNtwSd2d2K0B856CYJu7r96",
      "include_colab_link": true
    },
    "kernelspec": {
      "name": "python3",
      "display_name": "Python 3"
    },
    "language_info": {
      "name": "python"
    }
  },
  "cells": [
    {
      "cell_type": "markdown",
      "metadata": {
        "id": "view-in-github",
        "colab_type": "text"
      },
      "source": [
        "<a href=\"https://colab.research.google.com/github/wr0124/Learning_essential/blob/main/ResBlock.ipynb\" target=\"_parent\"><img src=\"https://colab.research.google.com/assets/colab-badge.svg\" alt=\"Open In Colab\"/></a>"
      ]
    },
    {
      "cell_type": "markdown",
      "source": [
        "#resblock"
      ],
      "metadata": {
        "id": "v7wCpwz-g0YK"
      }
    },
    {
      "cell_type": "code",
      "source": [
        "pip install einops"
      ],
      "metadata": {
        "colab": {
          "base_uri": "https://localhost:8080/"
        },
        "id": "2exqJ4jdg_cK",
        "outputId": "933c7d65-6c22-4f0e-9033-32d8ccb0286d"
      },
      "execution_count": 2,
      "outputs": [
        {
          "output_type": "stream",
          "name": "stdout",
          "text": [
            "Collecting einops\n",
            "  Downloading einops-0.8.0-py3-none-any.whl (43 kB)\n",
            "\u001b[?25l     \u001b[90m━━━━━━━━━━━━━━━━━━━━━━━━━━━━━━━━━━━━━━━━\u001b[0m \u001b[32m0.0/43.2 kB\u001b[0m \u001b[31m?\u001b[0m eta \u001b[36m-:--:--\u001b[0m\r\u001b[2K     \u001b[90m━━━━━━━━━━━━━━━━━━━━━━━━━━━━━━━━━━━━━━━━\u001b[0m \u001b[32m43.2/43.2 kB\u001b[0m \u001b[31m1.5 MB/s\u001b[0m eta \u001b[36m0:00:00\u001b[0m\n",
            "\u001b[?25hInstalling collected packages: einops\n",
            "Successfully installed einops-0.8.0\n"
          ]
        }
      ]
    },
    {
      "cell_type": "code",
      "execution_count": 10,
      "metadata": {
        "colab": {
          "base_uri": "https://localhost:8080/"
        },
        "id": "gkuA0NKPgyYQ",
        "outputId": "6678bc0b-9039-434a-f9e1-361b1c793656"
      },
      "outputs": [
        {
          "output_type": "stream",
          "name": "stdout",
          "text": [
            "torch.Size([2, 64, 8, 32, 32])\n"
          ]
        }
      ],
      "source": [
        "import torch\n",
        "import torch.nn as nn\n",
        "from einops import rearrange\n",
        "\n",
        "class InflatedGroupNorm(nn.GroupNorm):\n",
        "    def forward(self, x):\n",
        "        # Extract the video length dimension\n",
        "        video_length = x.shape[2]\n",
        "\n",
        "        # Reshape (b, c, f, h, w) to (b*f, c, h, w) for 2D group normalization\n",
        "        x = rearrange(x, \"b c f h w -> (b f) c h w\")\n",
        "\n",
        "        # Apply group normalization\n",
        "        x = super().forward(x)\n",
        "\n",
        "        # Reshape back from (b*f, c, h w) to (b, c, f, h, w)\n",
        "        x = rearrange(x, \"(b f) c h w -> b c f h w\", f=video_length)\n",
        "\n",
        "        return x\n",
        "\n",
        "def normalization(channels, norm=\"groupnorm32\"):\n",
        "    \"\"\"\n",
        "    Make a standard normalization layer.\n",
        "\n",
        "    :param channels: number of input channels.\n",
        "    :return: an nn.Module for normalization.\n",
        "    \"\"\"\n",
        "    if \"groupnorm\" in norm:\n",
        "        group_norm_size = int(norm.split(\"groupnorm\")[1])\n",
        "        if channels % group_norm_size != 0:\n",
        "            raise ValueError(f\"channels ({channels}) must be divisible by group_norm_size ({group_norm_size})\")\n",
        "        return InflatedGroupNorm(group_norm_size, channels)\n",
        "    else:\n",
        "        raise ValueError(f\"Normalization method {norm} not supported.\")\n",
        "\n",
        "# Example usage\n",
        "if __name__ == \"__main__\":\n",
        "    # Example tensor of shape (batch_size, channels, frames, height, width)\n",
        "    x = torch.randn(2, 64, 8, 32, 32)  # Using 64 channels to be divisible by 32  channels could be [64, 128, 256, 512, 1024, 768,384, 192 ]\n",
        "\n",
        "    # Create an InflatedGroupNorm layer\n",
        "    norm_layer = normalization(channels=64, norm=\"groupnorm32\")\n",
        "\n",
        "    # Apply the normalization layer\n",
        "    y = norm_layer(x)\n",
        "\n",
        "    print(y.shape)  # Should output: torch.Size([2, 64, 8, 32, 32])\n"
      ]
    }
  ]
}